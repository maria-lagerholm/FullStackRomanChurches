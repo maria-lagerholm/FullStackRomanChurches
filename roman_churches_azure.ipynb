{
 "cells": [
  {
   "cell_type": "code",
   "execution_count": 30,
   "metadata": {},
   "outputs": [
    {
     "name": "stdout",
     "output_type": "stream",
     "text": [
      "|   cid | name                                     | address                          | architect            |   artists | built               |   caption | clergy                   |   consecrated | dedication                         | denomination                           | englishname                        |   fax |   image |   national | phone        |   titular | type       | url                          |\n",
      "|------:|:-----------------------------------------|:---------------------------------|:---------------------|----------:|:--------------------|----------:|:-------------------------|--------------:|:-----------------------------------|:---------------------------------------|:-----------------------------------|------:|--------:|-----------:|:-------------|----------:|:-----------|:-----------------------------|\n",
      "|  1500 | All Saints                               | 153/b Via del Babuino 00187 Roma | George Edmund Street |       nan | 1880&ndash;1887     |       nan | Church of England clergy |           nan | nan                                | Anglican Communion / Church of England | All Saints                         |   nan |     nan |        nan | 06 3600 1881 |       nan | nan        | http://www.allsaintsrome.org |\n",
      "|  3128 | Angelo Custode                           | Via del Tritone (present site)   | nan                  |       nan | 1624                |       nan | nan                      |           nan | Guardian Angel                     | Roman Catholic                         | Guardian Angel                     |   nan |     nan |        nan | nan          |       nan | Demolished | nan                          |\n",
      "|  4880 | Annunciazione della Villa Flaminia       | Viale del Vignola 56             | nan                  |       nan | 1960's              |       nan | nan                      |          1968 | Blessed Virgin Mary (Annunciation) | Roman Catholic                         | Annunciation at the Villa Flaminia |   nan |     nan |        nan | nan          |       nan | nan        | nan                          |\n",
      "|  3144 | Ascensione di Nostro Signore Gesù Cristo | Via Manfredonia 5                | nan                  |       nan | 1954                |       nan | nan                      |           nan | Ascension                          | Roman Catholic                         | Ascension of Our Lord Jesus Christ |   nan |     nan |        nan | nan          |       nan | nan        | nan                          |\n",
      "|  3145 | Assunzione di Maria                      | Viale Spartico 11                | nan                  |       nan | 1960's (unfinished) |       nan | nan                      |           nan | Blessed Virgin Mary (Assumption)   | Roman Catholic                         | Assumption of Mary                 |   nan |     nan |        nan | nan          |       nan | nan        | nan                          |\n"
     ]
    }
   ],
   "source": [
    "#import csv as pd\n",
    "import pandas as pd\n",
    "\n",
    "#read csv file\n",
    "df = pd.read_csv('roman-churches.csv')\n",
    "\n",
    "#print the first 5 rows\n",
    "print(df.head().to_markdown(index=False))"
   ]
  },
  {
   "cell_type": "code",
   "execution_count": 31,
   "metadata": {},
   "outputs": [
    {
     "name": "stdout",
     "output_type": "stream",
     "text": [
      "|   cid | name                                     | address                          | architect            |   artists | built               |   consecrated | dedication                         | denomination                           | englishname                        |\n",
      "|------:|:-----------------------------------------|:---------------------------------|:---------------------|----------:|:--------------------|--------------:|:-----------------------------------|:---------------------------------------|:-----------------------------------|\n",
      "|  1500 | All Saints                               | 153/b Via del Babuino 00187 Roma | George Edmund Street |       nan | 1880&ndash;1887     |           nan | nan                                | Anglican Communion / Church of England | All Saints                         |\n",
      "|  3128 | Angelo Custode                           | Via del Tritone (present site)   | nan                  |       nan | 1624                |           nan | Guardian Angel                     | Roman Catholic                         | Guardian Angel                     |\n",
      "|  4880 | Annunciazione della Villa Flaminia       | Viale del Vignola 56             | nan                  |       nan | 1960's              |          1968 | Blessed Virgin Mary (Annunciation) | Roman Catholic                         | Annunciation at the Villa Flaminia |\n",
      "|  3144 | Ascensione di Nostro Signore Gesù Cristo | Via Manfredonia 5                | nan                  |       nan | 1954                |           nan | Ascension                          | Roman Catholic                         | Ascension of Our Lord Jesus Christ |\n",
      "|  3145 | Assunzione di Maria                      | Viale Spartico 11                | nan                  |       nan | 1960's (unfinished) |           nan | Blessed Virgin Mary (Assumption)   | Roman Catholic                         | Assumption of Mary                 |\n"
     ]
    }
   ],
   "source": [
    "#Drop columns with excessive missing values (e.g., caption, fax, image, url).\n",
    "df = df.drop(columns=['caption', 'fax', 'image', 'url', 'clergy', 'national', 'phone', 'titular', 'type'])\n",
    "\n",
    "#print the first 5 rows\n",
    "print(df.head().to_markdown(index=False))"
   ]
  },
  {
   "cell_type": "code",
   "execution_count": 32,
   "metadata": {},
   "outputs": [
    {
     "name": "stdout",
     "output_type": "stream",
     "text": [
      "cid                      int64\n",
      "name            string[python]\n",
      "address         string[python]\n",
      "architect       string[python]\n",
      "artists         string[python]\n",
      "built           string[python]\n",
      "consecrated     string[python]\n",
      "dedication      string[python]\n",
      "denomination    string[python]\n",
      "englishname     string[python]\n",
      "dtype: object\n",
      "|   cid | name                                     | address                          | architect            | artists   | built               | consecrated   | dedication                         | denomination                           | englishname                        |\n",
      "|------:|:-----------------------------------------|:---------------------------------|:---------------------|:----------|:--------------------|:--------------|:-----------------------------------|:---------------------------------------|:-----------------------------------|\n",
      "|  1500 | All Saints                               | 153/b Via del Babuino 00187 Roma | George Edmund Street | <NA>      | 1880&ndash;1887     | <NA>          | <NA>                               | Anglican Communion / Church of England | All Saints                         |\n",
      "|  3128 | Angelo Custode                           | Via del Tritone (present site)   | <NA>                 | <NA>      | 1624                | <NA>          | Guardian Angel                     | Roman Catholic                         | Guardian Angel                     |\n",
      "|  4880 | Annunciazione della Villa Flaminia       | Viale del Vignola 56             | <NA>                 | <NA>      | 1960's              | 1968          | Blessed Virgin Mary (Annunciation) | Roman Catholic                         | Annunciation at the Villa Flaminia |\n",
      "|  3144 | Ascensione di Nostro Signore Gesù Cristo | Via Manfredonia 5                | <NA>                 | <NA>      | 1954                | <NA>          | Ascension                          | Roman Catholic                         | Ascension of Our Lord Jesus Christ |\n",
      "|  3145 | Assunzione di Maria                      | Viale Spartico 11                | <NA>                 | <NA>      | 1960's (unfinished) | <NA>          | Blessed Virgin Mary (Assumption)   | Roman Catholic                         | Assumption of Mary                 |\n"
     ]
    }
   ],
   "source": [
    "# Convert columns to appropriate data types\n",
    "df = df.astype({\n",
    "    'cid': 'int64',                      # Unique identifier as integer\n",
    "    'name': 'string',                    # Church name as string\n",
    "    'built': 'string',                   # Original built information as string\n",
    "    'address': 'string',                 # Address as string\n",
    "    'architect': 'string',               # Architect's name as string\n",
    "    'artists': 'string',                 # Artists involved as string\n",
    "    'consecrated': 'string',             # Consecration year, kept as string\n",
    "    'dedication': 'string',              # Dedication as string\n",
    "    'denomination': 'string',            # Denomination as string\n",
    "    'englishname': 'string',             # English name as string\n",
    "})\n",
    "\n",
    "# Verify column data types\n",
    "print(df.dtypes)\n",
    "\n",
    "# Print the first 5 rows in a readable format\n",
    "print(df.head().to_markdown(index=False))"
   ]
  },
  {
   "cell_type": "code",
   "execution_count": 33,
   "metadata": {},
   "outputs": [
    {
     "name": "stdout",
     "output_type": "stream",
     "text": [
      "Missing values in the table:\n",
      "cid             0\n",
      "name            0\n",
      "address         0\n",
      "architect       0\n",
      "artists         0\n",
      "built           0\n",
      "consecrated     0\n",
      "dedication      0\n",
      "denomination    0\n",
      "englishname     0\n",
      "dtype: int64\n"
     ]
    }
   ],
   "source": [
    "import pandas as pd\n",
    "\n",
    "# Replace '?' with 'Unknown' in the DataFrame\n",
    "df = df.replace('?', 'Unknown')\n",
    "\n",
    "# Fill missing values in non-numeric columns with 'Unknown'\n",
    "for column in df.columns:\n",
    "    if df[column].dtype == 'object' or df[column].dtype.name == 'string':\n",
    "        df[column] = df[column].fillna(\"Unknown\")\n",
    "\n",
    "# Print the first 5 rows\n",
    "#print(df.head().to_markdown(index=False))\n",
    "\n",
    "# Check for any remaining missing values in the entire DataFrame\n",
    "print(\"Missing values in the table:\")\n",
    "print(df.isna().sum())\n",
    "\n"
   ]
  },
  {
   "cell_type": "code",
   "execution_count": 34,
   "metadata": {},
   "outputs": [
    {
     "name": "stdout",
     "output_type": "stream",
     "text": [
      "Unique values in 'built_century': <IntegerArray>\n",
      "[  19,   17,   20,   18,    4,    5, <NA>,   21,   15,   16,    3,   13,    8,\n",
      "    9,   12,   11,   14,    7,    6,    2,   10,    1,   27]\n",
      "Length: 23, dtype: Int64\n",
      "Number of rows with NA in 'built_century' before dropping: 105\n",
      "Number of rows with NA in 'built_century' after dropping: 0\n",
      "Percentage of rows with NA in 'built_century' before dropping: 11.27%\n"
     ]
    }
   ],
   "source": [
    "import re\n",
    "import pandas as pd\n",
    "import numpy as np\n",
    "\n",
    "# Function to clean and convert 'built' into centuries\n",
    "def convert_to_century(value):\n",
    "    if pd.isnull(value):  # Handle missing values\n",
    "        return np.nan\n",
    "    \n",
    "    value = str(value).lower().strip()  # Convert to string, lowercase, and strip spaces\n",
    "    \n",
    "    # Case 1: Extract digits before \"th\", \"st\", \"nd\", or \"rd\" (e.g., 20th century -> 20)\n",
    "    match = re.search(r'(\\d+)(?=th|st|nd|rd)', value)\n",
    "    if match:\n",
    "        return int(match.group(1))  # Already a century\n",
    "    \n",
    "    # Case 2: Extract 4-digit years and convert them to centuries\n",
    "    match = re.search(r'\\b(\\d{4})\\b', value)\n",
    "    if match:\n",
    "        year = int(match.group(1))\n",
    "        return (year // 100) + 1  # Convert year to century\n",
    "    \n",
    "    # Case 3: Extract other standalone digits (e.g., 8th -> 8)\n",
    "    match = re.search(r'\\b(\\d{1,2})\\b', value)\n",
    "    if match:\n",
    "        return int(match.group(1))  # Already a century\n",
    "    \n",
    "    # Return NaN if nothing matches\n",
    "    return np.nan\n",
    "\n",
    "# Apply the function to the 'built' column\n",
    "df['built_century'] = df['built'].apply(convert_to_century)\n",
    "\n",
    "# Ensure built_century is a nullable integer type\n",
    "df['built_century'] = df['built_century'].astype('Int64')\n",
    "\n",
    "# Verify results\n",
    "print(\"Unique values in 'built_century':\", df['built_century'].unique())\n",
    "# Count rows with NA in 'built_century'\n",
    "na_count_before = df['built_century'].isna().sum()\n",
    "\n",
    "print(f\"Number of rows with NA in 'built_century' before dropping: {na_count_before}\")\n",
    "\n",
    "# Drop rows with NA in 'built_century'\n",
    "df = df.dropna(subset=['built_century'])\n",
    "\n",
    "# Count rows with NA in 'built_century' after dropping\n",
    "na_count_after = df['built_century'].isna().sum()\n",
    "\n",
    "print(f\"Number of rows with NA in 'built_century' after dropping: {na_count_after}\")\n",
    "\n",
    "total_rows = len(df)\n",
    "na_percentage = (na_count_before / total_rows) * 100\n",
    "\n",
    "print(f\"Percentage of rows with NA in 'built_century' before dropping: {na_percentage:.2f}%\")\n"
   ]
  },
  {
   "cell_type": "code",
   "execution_count": 35,
   "metadata": {},
   "outputs": [
    {
     "name": "stdout",
     "output_type": "stream",
     "text": [
      "|   cid | name                                     | address                          | architect            | artists   | built               | consecrated   | dedication                         | denomination                           | englishname                        |   built_century |\n",
      "|------:|:-----------------------------------------|:---------------------------------|:---------------------|:----------|:--------------------|:--------------|:-----------------------------------|:---------------------------------------|:-----------------------------------|----------------:|\n",
      "|  1500 | All Saints                               | 153/b Via del Babuino 00187 Roma | George Edmund Street | Unknown   | 1880&ndash;1887     | Unknown       | Unknown                            | Anglican Communion / Church of England | All Saints                         |              19 |\n",
      "|  3128 | Angelo Custode                           | Via del Tritone (present site)   | Unknown              | Unknown   | 1624                | Unknown       | Guardian Angel                     | Roman Catholic                         | Guardian Angel                     |              17 |\n",
      "|  4880 | Annunciazione della Villa Flaminia       | Viale del Vignola 56             | Unknown              | Unknown   | 1960's              | 1968          | Blessed Virgin Mary (Annunciation) | Roman Catholic                         | Annunciation at the Villa Flaminia |              20 |\n",
      "|  3144 | Ascensione di Nostro Signore Gesù Cristo | Via Manfredonia 5                | Unknown              | Unknown   | 1954                | Unknown       | Ascension                          | Roman Catholic                         | Ascension of Our Lord Jesus Christ |              20 |\n",
      "|  3145 | Assunzione di Maria                      | Viale Spartico 11                | Unknown              | Unknown   | 1960's (unfinished) | Unknown       | Blessed Virgin Mary (Assumption)   | Roman Catholic                         | Assumption of Mary                 |              20 |\n"
     ]
    }
   ],
   "source": [
    "#Strip extra spaces or special symbols from all columns.\n",
    "df = df.map(lambda x: str(x).strip() if isinstance(x, str) else x)\n",
    "\n",
    "#print the first 5 rows\n",
    "print(df.head().to_markdown(index=False))\n"
   ]
  },
  {
   "cell_type": "code",
   "execution_count": 36,
   "metadata": {},
   "outputs": [
    {
     "name": "stdout",
     "output_type": "stream",
     "text": [
      "Table 1:\n",
      "|   cid | name                                     | englishname                        | built               |   built_century | address                          |\n",
      "|------:|:-----------------------------------------|:-----------------------------------|:--------------------|----------------:|:---------------------------------|\n",
      "|  1500 | All Saints                               | All Saints                         | 1880&ndash;1887     |              19 | 153/b Via del Babuino 00187 Roma |\n",
      "|  3128 | Angelo Custode                           | Guardian Angel                     | 1624                |              17 | Via del Tritone (present site)   |\n",
      "|  4880 | Annunciazione della Villa Flaminia       | Annunciation at the Villa Flaminia | 1960's              |              20 | Viale del Vignola 56             |\n",
      "|  3144 | Ascensione di Nostro Signore Gesù Cristo | Ascension of Our Lord Jesus Christ | 1954                |              20 | Via Manfredonia 5                |\n",
      "|  3145 | Assunzione di Maria                      | Assumption of Mary                 | 1960's (unfinished) |              20 | Viale Spartico 11                |\n",
      "\n",
      "Table 2:\n",
      "|   cid | architect            | artists   | consecrated   | dedication                         | denomination                           |\n",
      "|------:|:---------------------|:----------|:--------------|:-----------------------------------|:---------------------------------------|\n",
      "|  1500 | George Edmund Street | Unknown   | Unknown       | Unknown                            | Anglican Communion / Church of England |\n",
      "|  3128 | Unknown              | Unknown   | Unknown       | Guardian Angel                     | Roman Catholic                         |\n",
      "|  4880 | Unknown              | Unknown   | 1968          | Blessed Virgin Mary (Annunciation) | Roman Catholic                         |\n",
      "|  3144 | Unknown              | Unknown   | Unknown       | Ascension                          | Roman Catholic                         |\n",
      "|  3145 | Unknown              | Unknown   | Unknown       | Blessed Virgin Mary (Assumption)   | Roman Catholic                         |\n",
      "\n",
      "Table 3:\n",
      "|   Century | Event                                                  |   Population |\n",
      "|----------:|:-------------------------------------------------------|-------------:|\n",
      "|        -8 | Founding of Rome (753 BC)                              |         1000 |\n",
      "|        -1 | Transition from Roman Republic to Roman Empire (27 BC) |      1000000 |\n",
      "|         1 | Peak population under Roman Empire (~1 million)        |      1000000 |\n",
      "|         4 | Fall of Western Roman Empire (476 AD)                  |       500000 |\n",
      "|         5 | Sack of Rome by the Visigoths (410 AD)                 |        30000 |\n"
     ]
    }
   ],
   "source": [
    "#normalization\n",
    "\n",
    "# Split into two DataFrames\n",
    "table1 = df[['cid', 'name', 'englishname', 'built', 'built_century', 'address']].copy()\n",
    "table2 = df[['cid', 'architect', 'artists', 'consecrated', 'dedication', 'denomination']].copy()\n",
    "# Table 3: RomanPopulation\n",
    "roman_population = pd.read_csv(\"romanPopulation.csv\")\n",
    "\n",
    "# Verify the splits\n",
    "print(\"Table 1:\")\n",
    "print(table1.head().to_markdown(index=False))\n",
    "\n",
    "print(\"\\nTable 2:\")\n",
    "print(table2.head().to_markdown(index=False))\n",
    "\n",
    "print(\"\\nTable 3:\")\n",
    "print(roman_population.head().to_markdown(index=False))\n",
    "\n"
   ]
  },
  {
   "cell_type": "code",
   "execution_count": 27,
   "metadata": {},
   "outputs": [
    {
     "name": "stdout",
     "output_type": "stream",
     "text": [
      "Existing tables dropped successfully!\n",
      "Correct tables and data uploaded successfully to Azure!\n"
     ]
    }
   ],
   "source": [
    "from sqlalchemy import create_engine, text\n",
    "import pandas as pd\n",
    "\n",
    "# --- Azure SQL Database Connection ---\n",
    "password = os.environ[\"AZURE_SQL_PASSWORD\"]\n",
    "username = os.environ[\"AZURE_SQL_USERNAME\"]\n",
    "server = \"marialagerholm.database.windows.net\"\n",
    "database = \"lagerholmDB\"\n",
    "\n",
    "# Connection string to Azure SQL Database\n",
    "azure_connection = f\"mssql+pyodbc://{username}:{password}@{server}/{database}?driver=ODBC+Driver+18+for+SQL+Server\"\n",
    "engine = create_engine(azure_connection)\n",
    "\n",
    "\n",
    "# --- Drop Existing Tables ---\n",
    "# try:\n",
    "#     with engine.begin() as conn:\n",
    "#         conn.execute(text(\"DROP TABLE IF EXISTS RomanChurches_Details\"))\n",
    "#         conn.execute(text(\"DROP TABLE IF EXISTS RomanChurches_Main\"))\n",
    "#         conn.execute(text(\"DROP TABLE IF EXISTS RomanPopulation\"))\n",
    "#         print(\"Existing tables dropped successfully!\")\n",
    "# except Exception as e:\n",
    "#     print(f\"Error dropping tables: {e}\")\n",
    "\n",
    "# --- Recreate Tables ---\n",
    "try:\n",
    "    # Table 1: RomanChurches_Main\n",
    "    table1.to_sql('RomanChurches_Main', con=engine, if_exists='replace', index=False)\n",
    "    with engine.begin() as conn:\n",
    "        conn.execute(text(\"ALTER TABLE RomanChurches_Main ALTER COLUMN cid INT NOT NULL\"))\n",
    "        conn.execute(text(\"ALTER TABLE RomanChurches_Main ADD CONSTRAINT PK_RomanChurches_Main PRIMARY KEY (cid)\"))\n",
    "\n",
    "    # Table 2: RomanChurches_Details\n",
    "    table2.to_sql('RomanChurches_Details', con=engine, if_exists='replace', index=False)\n",
    "    with engine.begin() as conn:\n",
    "        conn.execute(text(\"ALTER TABLE RomanChurches_Details ALTER COLUMN cid INT NOT NULL\"))\n",
    "        conn.execute(text(\"\"\"\n",
    "            ALTER TABLE RomanChurches_Details \n",
    "            ADD CONSTRAINT FK_RomanChurches_Details \n",
    "            FOREIGN KEY (cid) REFERENCES RomanChurches_Main(cid)\n",
    "        \"\"\"))\n",
    "\n",
    "    # Table 3: RomanPopulation\n",
    "    roman_population.to_sql('RomanPopulation', con=engine, if_exists='replace', index=False)\n",
    "\n",
    "    print(\"Uploaded successfully to Azure!\")\n",
    "except Exception as e:\n",
    "    print(f\"Error uploading tables: {e}\")\n"
   ]
  },
  {
   "cell_type": "code",
   "execution_count": 37,
   "metadata": {},
   "outputs": [
    {
     "data": {
      "application/vnd.plotly.v1+json": {
       "config": {
        "plotlyServerURL": "https://plot.ly"
       },
       "data": [
        {
         "alignmentgroup": "True",
         "hovertemplate": "Century=%{x}<br>Number of Churches=%{text}<extra></extra>",
         "legendgroup": "",
         "marker": {
          "color": "#636efa",
          "pattern": {
           "shape": ""
          }
         },
         "name": "",
         "offsetgroup": "",
         "orientation": "v",
         "showlegend": false,
         "text": [
          1,
          5,
          1,
          26,
          13,
          5,
          5,
          8,
          6,
          1,
          16,
          23,
          10,
          5,
          23,
          84,
          108,
          67,
          45,
          429,
          50
         ],
         "textposition": "outside",
         "texttemplate": "%{text}",
         "type": "bar",
         "x": [
          1,
          2,
          3,
          4,
          5,
          6,
          7,
          8,
          9,
          10,
          11,
          12,
          13,
          14,
          15,
          16,
          17,
          18,
          19,
          20,
          21
         ],
         "xaxis": "x",
         "y": [
          1,
          5,
          1,
          26,
          13,
          5,
          5,
          8,
          6,
          1,
          16,
          23,
          10,
          5,
          23,
          84,
          108,
          67,
          45,
          429,
          50
         ],
         "yaxis": "y"
        }
       ],
       "layout": {
        "barmode": "relative",
        "height": 600,
        "legend": {
         "tracegroupgap": 0
        },
        "template": {
         "data": {
          "bar": [
           {
            "error_x": {
             "color": "#2a3f5f"
            },
            "error_y": {
             "color": "#2a3f5f"
            },
            "marker": {
             "line": {
              "color": "#E5ECF6",
              "width": 0.5
             },
             "pattern": {
              "fillmode": "overlay",
              "size": 10,
              "solidity": 0.2
             }
            },
            "type": "bar"
           }
          ],
          "barpolar": [
           {
            "marker": {
             "line": {
              "color": "#E5ECF6",
              "width": 0.5
             },
             "pattern": {
              "fillmode": "overlay",
              "size": 10,
              "solidity": 0.2
             }
            },
            "type": "barpolar"
           }
          ],
          "carpet": [
           {
            "aaxis": {
             "endlinecolor": "#2a3f5f",
             "gridcolor": "white",
             "linecolor": "white",
             "minorgridcolor": "white",
             "startlinecolor": "#2a3f5f"
            },
            "baxis": {
             "endlinecolor": "#2a3f5f",
             "gridcolor": "white",
             "linecolor": "white",
             "minorgridcolor": "white",
             "startlinecolor": "#2a3f5f"
            },
            "type": "carpet"
           }
          ],
          "choropleth": [
           {
            "colorbar": {
             "outlinewidth": 0,
             "ticks": ""
            },
            "type": "choropleth"
           }
          ],
          "contour": [
           {
            "colorbar": {
             "outlinewidth": 0,
             "ticks": ""
            },
            "colorscale": [
             [
              0,
              "#0d0887"
             ],
             [
              0.1111111111111111,
              "#46039f"
             ],
             [
              0.2222222222222222,
              "#7201a8"
             ],
             [
              0.3333333333333333,
              "#9c179e"
             ],
             [
              0.4444444444444444,
              "#bd3786"
             ],
             [
              0.5555555555555556,
              "#d8576b"
             ],
             [
              0.6666666666666666,
              "#ed7953"
             ],
             [
              0.7777777777777778,
              "#fb9f3a"
             ],
             [
              0.8888888888888888,
              "#fdca26"
             ],
             [
              1,
              "#f0f921"
             ]
            ],
            "type": "contour"
           }
          ],
          "contourcarpet": [
           {
            "colorbar": {
             "outlinewidth": 0,
             "ticks": ""
            },
            "type": "contourcarpet"
           }
          ],
          "heatmap": [
           {
            "colorbar": {
             "outlinewidth": 0,
             "ticks": ""
            },
            "colorscale": [
             [
              0,
              "#0d0887"
             ],
             [
              0.1111111111111111,
              "#46039f"
             ],
             [
              0.2222222222222222,
              "#7201a8"
             ],
             [
              0.3333333333333333,
              "#9c179e"
             ],
             [
              0.4444444444444444,
              "#bd3786"
             ],
             [
              0.5555555555555556,
              "#d8576b"
             ],
             [
              0.6666666666666666,
              "#ed7953"
             ],
             [
              0.7777777777777778,
              "#fb9f3a"
             ],
             [
              0.8888888888888888,
              "#fdca26"
             ],
             [
              1,
              "#f0f921"
             ]
            ],
            "type": "heatmap"
           }
          ],
          "heatmapgl": [
           {
            "colorbar": {
             "outlinewidth": 0,
             "ticks": ""
            },
            "colorscale": [
             [
              0,
              "#0d0887"
             ],
             [
              0.1111111111111111,
              "#46039f"
             ],
             [
              0.2222222222222222,
              "#7201a8"
             ],
             [
              0.3333333333333333,
              "#9c179e"
             ],
             [
              0.4444444444444444,
              "#bd3786"
             ],
             [
              0.5555555555555556,
              "#d8576b"
             ],
             [
              0.6666666666666666,
              "#ed7953"
             ],
             [
              0.7777777777777778,
              "#fb9f3a"
             ],
             [
              0.8888888888888888,
              "#fdca26"
             ],
             [
              1,
              "#f0f921"
             ]
            ],
            "type": "heatmapgl"
           }
          ],
          "histogram": [
           {
            "marker": {
             "pattern": {
              "fillmode": "overlay",
              "size": 10,
              "solidity": 0.2
             }
            },
            "type": "histogram"
           }
          ],
          "histogram2d": [
           {
            "colorbar": {
             "outlinewidth": 0,
             "ticks": ""
            },
            "colorscale": [
             [
              0,
              "#0d0887"
             ],
             [
              0.1111111111111111,
              "#46039f"
             ],
             [
              0.2222222222222222,
              "#7201a8"
             ],
             [
              0.3333333333333333,
              "#9c179e"
             ],
             [
              0.4444444444444444,
              "#bd3786"
             ],
             [
              0.5555555555555556,
              "#d8576b"
             ],
             [
              0.6666666666666666,
              "#ed7953"
             ],
             [
              0.7777777777777778,
              "#fb9f3a"
             ],
             [
              0.8888888888888888,
              "#fdca26"
             ],
             [
              1,
              "#f0f921"
             ]
            ],
            "type": "histogram2d"
           }
          ],
          "histogram2dcontour": [
           {
            "colorbar": {
             "outlinewidth": 0,
             "ticks": ""
            },
            "colorscale": [
             [
              0,
              "#0d0887"
             ],
             [
              0.1111111111111111,
              "#46039f"
             ],
             [
              0.2222222222222222,
              "#7201a8"
             ],
             [
              0.3333333333333333,
              "#9c179e"
             ],
             [
              0.4444444444444444,
              "#bd3786"
             ],
             [
              0.5555555555555556,
              "#d8576b"
             ],
             [
              0.6666666666666666,
              "#ed7953"
             ],
             [
              0.7777777777777778,
              "#fb9f3a"
             ],
             [
              0.8888888888888888,
              "#fdca26"
             ],
             [
              1,
              "#f0f921"
             ]
            ],
            "type": "histogram2dcontour"
           }
          ],
          "mesh3d": [
           {
            "colorbar": {
             "outlinewidth": 0,
             "ticks": ""
            },
            "type": "mesh3d"
           }
          ],
          "parcoords": [
           {
            "line": {
             "colorbar": {
              "outlinewidth": 0,
              "ticks": ""
             }
            },
            "type": "parcoords"
           }
          ],
          "pie": [
           {
            "automargin": true,
            "type": "pie"
           }
          ],
          "scatter": [
           {
            "fillpattern": {
             "fillmode": "overlay",
             "size": 10,
             "solidity": 0.2
            },
            "type": "scatter"
           }
          ],
          "scatter3d": [
           {
            "line": {
             "colorbar": {
              "outlinewidth": 0,
              "ticks": ""
             }
            },
            "marker": {
             "colorbar": {
              "outlinewidth": 0,
              "ticks": ""
             }
            },
            "type": "scatter3d"
           }
          ],
          "scattercarpet": [
           {
            "marker": {
             "colorbar": {
              "outlinewidth": 0,
              "ticks": ""
             }
            },
            "type": "scattercarpet"
           }
          ],
          "scattergeo": [
           {
            "marker": {
             "colorbar": {
              "outlinewidth": 0,
              "ticks": ""
             }
            },
            "type": "scattergeo"
           }
          ],
          "scattergl": [
           {
            "marker": {
             "colorbar": {
              "outlinewidth": 0,
              "ticks": ""
             }
            },
            "type": "scattergl"
           }
          ],
          "scattermapbox": [
           {
            "marker": {
             "colorbar": {
              "outlinewidth": 0,
              "ticks": ""
             }
            },
            "type": "scattermapbox"
           }
          ],
          "scatterpolar": [
           {
            "marker": {
             "colorbar": {
              "outlinewidth": 0,
              "ticks": ""
             }
            },
            "type": "scatterpolar"
           }
          ],
          "scatterpolargl": [
           {
            "marker": {
             "colorbar": {
              "outlinewidth": 0,
              "ticks": ""
             }
            },
            "type": "scatterpolargl"
           }
          ],
          "scatterternary": [
           {
            "marker": {
             "colorbar": {
              "outlinewidth": 0,
              "ticks": ""
             }
            },
            "type": "scatterternary"
           }
          ],
          "surface": [
           {
            "colorbar": {
             "outlinewidth": 0,
             "ticks": ""
            },
            "colorscale": [
             [
              0,
              "#0d0887"
             ],
             [
              0.1111111111111111,
              "#46039f"
             ],
             [
              0.2222222222222222,
              "#7201a8"
             ],
             [
              0.3333333333333333,
              "#9c179e"
             ],
             [
              0.4444444444444444,
              "#bd3786"
             ],
             [
              0.5555555555555556,
              "#d8576b"
             ],
             [
              0.6666666666666666,
              "#ed7953"
             ],
             [
              0.7777777777777778,
              "#fb9f3a"
             ],
             [
              0.8888888888888888,
              "#fdca26"
             ],
             [
              1,
              "#f0f921"
             ]
            ],
            "type": "surface"
           }
          ],
          "table": [
           {
            "cells": {
             "fill": {
              "color": "#EBF0F8"
             },
             "line": {
              "color": "white"
             }
            },
            "header": {
             "fill": {
              "color": "#C8D4E3"
             },
             "line": {
              "color": "white"
             }
            },
            "type": "table"
           }
          ]
         },
         "layout": {
          "annotationdefaults": {
           "arrowcolor": "#2a3f5f",
           "arrowhead": 0,
           "arrowwidth": 1
          },
          "autotypenumbers": "strict",
          "coloraxis": {
           "colorbar": {
            "outlinewidth": 0,
            "ticks": ""
           }
          },
          "colorscale": {
           "diverging": [
            [
             0,
             "#8e0152"
            ],
            [
             0.1,
             "#c51b7d"
            ],
            [
             0.2,
             "#de77ae"
            ],
            [
             0.3,
             "#f1b6da"
            ],
            [
             0.4,
             "#fde0ef"
            ],
            [
             0.5,
             "#f7f7f7"
            ],
            [
             0.6,
             "#e6f5d0"
            ],
            [
             0.7,
             "#b8e186"
            ],
            [
             0.8,
             "#7fbc41"
            ],
            [
             0.9,
             "#4d9221"
            ],
            [
             1,
             "#276419"
            ]
           ],
           "sequential": [
            [
             0,
             "#0d0887"
            ],
            [
             0.1111111111111111,
             "#46039f"
            ],
            [
             0.2222222222222222,
             "#7201a8"
            ],
            [
             0.3333333333333333,
             "#9c179e"
            ],
            [
             0.4444444444444444,
             "#bd3786"
            ],
            [
             0.5555555555555556,
             "#d8576b"
            ],
            [
             0.6666666666666666,
             "#ed7953"
            ],
            [
             0.7777777777777778,
             "#fb9f3a"
            ],
            [
             0.8888888888888888,
             "#fdca26"
            ],
            [
             1,
             "#f0f921"
            ]
           ],
           "sequentialminus": [
            [
             0,
             "#0d0887"
            ],
            [
             0.1111111111111111,
             "#46039f"
            ],
            [
             0.2222222222222222,
             "#7201a8"
            ],
            [
             0.3333333333333333,
             "#9c179e"
            ],
            [
             0.4444444444444444,
             "#bd3786"
            ],
            [
             0.5555555555555556,
             "#d8576b"
            ],
            [
             0.6666666666666666,
             "#ed7953"
            ],
            [
             0.7777777777777778,
             "#fb9f3a"
            ],
            [
             0.8888888888888888,
             "#fdca26"
            ],
            [
             1,
             "#f0f921"
            ]
           ]
          },
          "colorway": [
           "#636efa",
           "#EF553B",
           "#00cc96",
           "#ab63fa",
           "#FFA15A",
           "#19d3f3",
           "#FF6692",
           "#B6E880",
           "#FF97FF",
           "#FECB52"
          ],
          "font": {
           "color": "#2a3f5f"
          },
          "geo": {
           "bgcolor": "white",
           "lakecolor": "white",
           "landcolor": "#E5ECF6",
           "showlakes": true,
           "showland": true,
           "subunitcolor": "white"
          },
          "hoverlabel": {
           "align": "left"
          },
          "hovermode": "closest",
          "mapbox": {
           "style": "light"
          },
          "paper_bgcolor": "white",
          "plot_bgcolor": "#E5ECF6",
          "polar": {
           "angularaxis": {
            "gridcolor": "white",
            "linecolor": "white",
            "ticks": ""
           },
           "bgcolor": "#E5ECF6",
           "radialaxis": {
            "gridcolor": "white",
            "linecolor": "white",
            "ticks": ""
           }
          },
          "scene": {
           "xaxis": {
            "backgroundcolor": "#E5ECF6",
            "gridcolor": "white",
            "gridwidth": 2,
            "linecolor": "white",
            "showbackground": true,
            "ticks": "",
            "zerolinecolor": "white"
           },
           "yaxis": {
            "backgroundcolor": "#E5ECF6",
            "gridcolor": "white",
            "gridwidth": 2,
            "linecolor": "white",
            "showbackground": true,
            "ticks": "",
            "zerolinecolor": "white"
           },
           "zaxis": {
            "backgroundcolor": "#E5ECF6",
            "gridcolor": "white",
            "gridwidth": 2,
            "linecolor": "white",
            "showbackground": true,
            "ticks": "",
            "zerolinecolor": "white"
           }
          },
          "shapedefaults": {
           "line": {
            "color": "#2a3f5f"
           }
          },
          "ternary": {
           "aaxis": {
            "gridcolor": "white",
            "linecolor": "white",
            "ticks": ""
           },
           "baxis": {
            "gridcolor": "white",
            "linecolor": "white",
            "ticks": ""
           },
           "bgcolor": "#E5ECF6",
           "caxis": {
            "gridcolor": "white",
            "linecolor": "white",
            "ticks": ""
           }
          },
          "title": {
           "x": 0.05
          },
          "xaxis": {
           "automargin": true,
           "gridcolor": "white",
           "linecolor": "white",
           "ticks": "",
           "title": {
            "standoff": 15
           },
           "zerolinecolor": "white",
           "zerolinewidth": 2
          },
          "yaxis": {
           "automargin": true,
           "gridcolor": "white",
           "linecolor": "white",
           "ticks": "",
           "title": {
            "standoff": 15
           },
           "zerolinecolor": "white",
           "zerolinewidth": 2
          }
         }
        },
        "title": {
         "text": "Number of churches built in Rome per century"
        },
        "uniformtext": {
         "minsize": 8,
         "mode": "hide"
        },
        "width": 800,
        "xaxis": {
         "anchor": "y",
         "domain": [
          0,
          1
         ],
         "dtick": 1,
         "tickmode": "linear",
         "title": {
          "text": "Century"
         }
        },
        "yaxis": {
         "anchor": "x",
         "domain": [
          0,
          1
         ],
         "title": {
          "text": "Number of Churches"
         }
        }
       }
      }
     },
     "metadata": {},
     "output_type": "display_data"
    }
   ],
   "source": [
    "# Query the database for the count of churches per built_century\n",
    "query = text(\"\"\"\n",
    "    SELECT built_century, COUNT(*) AS count\n",
    "    FROM RomanChurches_Main\n",
    "    GROUP BY built_century\n",
    "\"\"\")\n",
    "\n",
    "df = pd.read_sql_query(query, engine)\n",
    "\n",
    "import plotly.express as px\n",
    "import pandas as pd\n",
    "\n",
    "# Ensure all centuries from 1 to 21 are represented\n",
    "centuries = list(range(1, 22))\n",
    "df_full = pd.DataFrame({'built_century': centuries})\n",
    "df_plot = df_full.merge(df, on='built_century', how='left').fillna(0)\n",
    "\n",
    "# Create the bar plot\n",
    "fig = px.bar(\n",
    "    df_plot,\n",
    "    x='built_century',\n",
    "    y='count',\n",
    "    labels={'built_century': 'Century', 'count': 'Number of Churches'},\n",
    "    title='Number of churches built in Rome per century',\n",
    "    text='count'\n",
    ")\n",
    "\n",
    "# Update the layout for better visibility and resize the plot\n",
    "fig.update_traces(texttemplate='%{text}', textposition='outside')\n",
    "fig.update_layout(\n",
    "    xaxis=dict(tickmode='linear', dtick=1),\n",
    "    yaxis_title='Number of Churches',\n",
    "    uniformtext_minsize=8,\n",
    "    uniformtext_mode='hide',\n",
    "    width=800,\n",
    "    height=600\n",
    ")\n",
    "\n",
    "fig.show()"
   ]
  },
  {
   "cell_type": "code",
   "execution_count": 38,
   "metadata": {},
   "outputs": [
    {
     "data": {
      "application/vnd.plotly.v1+json": {
       "config": {
        "plotlyServerURL": "https://plot.ly"
       },
       "data": [
        {
         "hovertemplate": "Century=%{x}<br>Population=%{y}<extra></extra>",
         "legendgroup": "",
         "line": {
          "color": "#636efa",
          "dash": "solid",
          "shape": "spline"
         },
         "marker": {
          "symbol": "circle"
         },
         "mode": "lines+markers",
         "name": "",
         "orientation": "v",
         "showlegend": false,
         "type": "scatter",
         "x": [
          -8,
          -7,
          -6,
          -5,
          -4,
          -3,
          -2,
          -1,
          0,
          1,
          2,
          3,
          4,
          5,
          6,
          7,
          8,
          9,
          10,
          11,
          12,
          13,
          14,
          15,
          16,
          17,
          18,
          19,
          20,
          21
         ],
         "xaxis": "x",
         "y": [
          1000,
          143714.2857142857,
          286428.5714285714,
          429142.85714285716,
          571857.1428571428,
          714571.4285714285,
          857285.7142857143,
          1000000,
          1000000,
          1000000,
          833333.3333333334,
          666666.6666666667,
          500000,
          30000,
          46666.66666666667,
          63333.333333333336,
          80000,
          73333.33333333333,
          66666.66666666667,
          60000,
          53333.33333333333,
          46666.666666666664,
          40000,
          60000,
          80000,
          220000,
          360000,
          500000,
          1600000,
          2860009
         ],
         "yaxis": "y"
        }
       ],
       "layout": {
        "annotations": [
         {
          "arrowcolor": "gray",
          "arrowhead": 2,
          "ax": 0,
          "ay": -50,
          "font": {
           "color": "black",
           "size": 14
          },
          "showarrow": true,
          "text": "1",
          "x": -8,
          "xanchor": "center",
          "y": 1000,
          "yanchor": "top"
         },
         {
          "arrowcolor": "gray",
          "arrowhead": 2,
          "ax": 0,
          "ay": -50,
          "font": {
           "color": "black",
           "size": 14
          },
          "showarrow": true,
          "text": "2",
          "x": -1,
          "xanchor": "center",
          "y": 1000000,
          "yanchor": "top"
         },
         {
          "arrowcolor": "gray",
          "arrowhead": 2,
          "ax": 0,
          "ay": -50,
          "font": {
           "color": "black",
           "size": 14
          },
          "showarrow": true,
          "text": "3",
          "x": 1,
          "xanchor": "center",
          "y": 1000000,
          "yanchor": "top"
         },
         {
          "arrowcolor": "gray",
          "arrowhead": 2,
          "ax": 0,
          "ay": -50,
          "font": {
           "color": "black",
           "size": 14
          },
          "showarrow": true,
          "text": "4",
          "x": 4,
          "xanchor": "center",
          "y": 500000,
          "yanchor": "top"
         },
         {
          "arrowcolor": "gray",
          "arrowhead": 2,
          "ax": 0,
          "ay": -50,
          "font": {
           "color": "black",
           "size": 14
          },
          "showarrow": true,
          "text": "5",
          "x": 5,
          "xanchor": "center",
          "y": 30000,
          "yanchor": "top"
         },
         {
          "arrowcolor": "gray",
          "arrowhead": 2,
          "ax": 0,
          "ay": -50,
          "font": {
           "color": "black",
           "size": 14
          },
          "showarrow": true,
          "text": "6",
          "x": 8,
          "xanchor": "center",
          "y": 80000,
          "yanchor": "top"
         },
         {
          "arrowcolor": "gray",
          "arrowhead": 2,
          "ax": 0,
          "ay": -50,
          "font": {
           "color": "black",
           "size": 14
          },
          "showarrow": true,
          "text": "7",
          "x": 14,
          "xanchor": "center",
          "y": 40000,
          "yanchor": "top"
         },
         {
          "arrowcolor": "gray",
          "arrowhead": 2,
          "ax": 0,
          "ay": -50,
          "font": {
           "color": "black",
           "size": 14
          },
          "showarrow": true,
          "text": "8",
          "x": 16,
          "xanchor": "center",
          "y": 80000,
          "yanchor": "top"
         },
         {
          "arrowcolor": "gray",
          "arrowhead": 2,
          "ax": 0,
          "ay": -50,
          "font": {
           "color": "black",
           "size": 14
          },
          "showarrow": true,
          "text": "9",
          "x": 19,
          "xanchor": "center",
          "y": 500000,
          "yanchor": "top"
         },
         {
          "arrowcolor": "gray",
          "arrowhead": 2,
          "ax": 0,
          "ay": -50,
          "font": {
           "color": "black",
           "size": 14
          },
          "showarrow": true,
          "text": "10",
          "x": 20,
          "xanchor": "center",
          "y": 1600000,
          "yanchor": "top"
         },
         {
          "align": "left",
          "bgcolor": "white",
          "bordercolor": "black",
          "borderwidth": 1,
          "font": {
           "size": 10
          },
          "opacity": 0.9,
          "showarrow": false,
          "text": "<b>Event Legend:</b><br>• 1: Founding of Rome (753 BC)<br>• 2: Transition from Roman Republic to Roman Empire (27 BC)<br>• 3: Peak population under Roman Empire (~1 million)<br>• 4: Fall of Western Roman Empire (476 AD)<br>• 5: Sack of Rome by the Visigoths (410 AD)<br>• 6: Rome becomes capital of Papal States<br>• 7: Renaissance period brings architectural boom<br>• 8: Birthplace of Baroque art movement<br>• 9: Industrialization begins, urban growth accelerates<br>• 10: World War II and the bombing of San Lorenzo district",
          "x": 0.01,
          "xref": "paper",
          "y": 0.99,
          "yref": "paper"
         }
        ],
        "font": {
         "family": "Arial",
         "size": 10
        },
        "height": 600,
        "legend": {
         "tracegroupgap": 0
        },
        "margin": {
         "b": 100,
         "l": 50,
         "r": 50,
         "t": 50
        },
        "template": {
         "data": {
          "bar": [
           {
            "error_x": {
             "color": "#2a3f5f"
            },
            "error_y": {
             "color": "#2a3f5f"
            },
            "marker": {
             "line": {
              "color": "#E5ECF6",
              "width": 0.5
             },
             "pattern": {
              "fillmode": "overlay",
              "size": 10,
              "solidity": 0.2
             }
            },
            "type": "bar"
           }
          ],
          "barpolar": [
           {
            "marker": {
             "line": {
              "color": "#E5ECF6",
              "width": 0.5
             },
             "pattern": {
              "fillmode": "overlay",
              "size": 10,
              "solidity": 0.2
             }
            },
            "type": "barpolar"
           }
          ],
          "carpet": [
           {
            "aaxis": {
             "endlinecolor": "#2a3f5f",
             "gridcolor": "white",
             "linecolor": "white",
             "minorgridcolor": "white",
             "startlinecolor": "#2a3f5f"
            },
            "baxis": {
             "endlinecolor": "#2a3f5f",
             "gridcolor": "white",
             "linecolor": "white",
             "minorgridcolor": "white",
             "startlinecolor": "#2a3f5f"
            },
            "type": "carpet"
           }
          ],
          "choropleth": [
           {
            "colorbar": {
             "outlinewidth": 0,
             "ticks": ""
            },
            "type": "choropleth"
           }
          ],
          "contour": [
           {
            "colorbar": {
             "outlinewidth": 0,
             "ticks": ""
            },
            "colorscale": [
             [
              0,
              "#0d0887"
             ],
             [
              0.1111111111111111,
              "#46039f"
             ],
             [
              0.2222222222222222,
              "#7201a8"
             ],
             [
              0.3333333333333333,
              "#9c179e"
             ],
             [
              0.4444444444444444,
              "#bd3786"
             ],
             [
              0.5555555555555556,
              "#d8576b"
             ],
             [
              0.6666666666666666,
              "#ed7953"
             ],
             [
              0.7777777777777778,
              "#fb9f3a"
             ],
             [
              0.8888888888888888,
              "#fdca26"
             ],
             [
              1,
              "#f0f921"
             ]
            ],
            "type": "contour"
           }
          ],
          "contourcarpet": [
           {
            "colorbar": {
             "outlinewidth": 0,
             "ticks": ""
            },
            "type": "contourcarpet"
           }
          ],
          "heatmap": [
           {
            "colorbar": {
             "outlinewidth": 0,
             "ticks": ""
            },
            "colorscale": [
             [
              0,
              "#0d0887"
             ],
             [
              0.1111111111111111,
              "#46039f"
             ],
             [
              0.2222222222222222,
              "#7201a8"
             ],
             [
              0.3333333333333333,
              "#9c179e"
             ],
             [
              0.4444444444444444,
              "#bd3786"
             ],
             [
              0.5555555555555556,
              "#d8576b"
             ],
             [
              0.6666666666666666,
              "#ed7953"
             ],
             [
              0.7777777777777778,
              "#fb9f3a"
             ],
             [
              0.8888888888888888,
              "#fdca26"
             ],
             [
              1,
              "#f0f921"
             ]
            ],
            "type": "heatmap"
           }
          ],
          "heatmapgl": [
           {
            "colorbar": {
             "outlinewidth": 0,
             "ticks": ""
            },
            "colorscale": [
             [
              0,
              "#0d0887"
             ],
             [
              0.1111111111111111,
              "#46039f"
             ],
             [
              0.2222222222222222,
              "#7201a8"
             ],
             [
              0.3333333333333333,
              "#9c179e"
             ],
             [
              0.4444444444444444,
              "#bd3786"
             ],
             [
              0.5555555555555556,
              "#d8576b"
             ],
             [
              0.6666666666666666,
              "#ed7953"
             ],
             [
              0.7777777777777778,
              "#fb9f3a"
             ],
             [
              0.8888888888888888,
              "#fdca26"
             ],
             [
              1,
              "#f0f921"
             ]
            ],
            "type": "heatmapgl"
           }
          ],
          "histogram": [
           {
            "marker": {
             "pattern": {
              "fillmode": "overlay",
              "size": 10,
              "solidity": 0.2
             }
            },
            "type": "histogram"
           }
          ],
          "histogram2d": [
           {
            "colorbar": {
             "outlinewidth": 0,
             "ticks": ""
            },
            "colorscale": [
             [
              0,
              "#0d0887"
             ],
             [
              0.1111111111111111,
              "#46039f"
             ],
             [
              0.2222222222222222,
              "#7201a8"
             ],
             [
              0.3333333333333333,
              "#9c179e"
             ],
             [
              0.4444444444444444,
              "#bd3786"
             ],
             [
              0.5555555555555556,
              "#d8576b"
             ],
             [
              0.6666666666666666,
              "#ed7953"
             ],
             [
              0.7777777777777778,
              "#fb9f3a"
             ],
             [
              0.8888888888888888,
              "#fdca26"
             ],
             [
              1,
              "#f0f921"
             ]
            ],
            "type": "histogram2d"
           }
          ],
          "histogram2dcontour": [
           {
            "colorbar": {
             "outlinewidth": 0,
             "ticks": ""
            },
            "colorscale": [
             [
              0,
              "#0d0887"
             ],
             [
              0.1111111111111111,
              "#46039f"
             ],
             [
              0.2222222222222222,
              "#7201a8"
             ],
             [
              0.3333333333333333,
              "#9c179e"
             ],
             [
              0.4444444444444444,
              "#bd3786"
             ],
             [
              0.5555555555555556,
              "#d8576b"
             ],
             [
              0.6666666666666666,
              "#ed7953"
             ],
             [
              0.7777777777777778,
              "#fb9f3a"
             ],
             [
              0.8888888888888888,
              "#fdca26"
             ],
             [
              1,
              "#f0f921"
             ]
            ],
            "type": "histogram2dcontour"
           }
          ],
          "mesh3d": [
           {
            "colorbar": {
             "outlinewidth": 0,
             "ticks": ""
            },
            "type": "mesh3d"
           }
          ],
          "parcoords": [
           {
            "line": {
             "colorbar": {
              "outlinewidth": 0,
              "ticks": ""
             }
            },
            "type": "parcoords"
           }
          ],
          "pie": [
           {
            "automargin": true,
            "type": "pie"
           }
          ],
          "scatter": [
           {
            "fillpattern": {
             "fillmode": "overlay",
             "size": 10,
             "solidity": 0.2
            },
            "type": "scatter"
           }
          ],
          "scatter3d": [
           {
            "line": {
             "colorbar": {
              "outlinewidth": 0,
              "ticks": ""
             }
            },
            "marker": {
             "colorbar": {
              "outlinewidth": 0,
              "ticks": ""
             }
            },
            "type": "scatter3d"
           }
          ],
          "scattercarpet": [
           {
            "marker": {
             "colorbar": {
              "outlinewidth": 0,
              "ticks": ""
             }
            },
            "type": "scattercarpet"
           }
          ],
          "scattergeo": [
           {
            "marker": {
             "colorbar": {
              "outlinewidth": 0,
              "ticks": ""
             }
            },
            "type": "scattergeo"
           }
          ],
          "scattergl": [
           {
            "marker": {
             "colorbar": {
              "outlinewidth": 0,
              "ticks": ""
             }
            },
            "type": "scattergl"
           }
          ],
          "scattermapbox": [
           {
            "marker": {
             "colorbar": {
              "outlinewidth": 0,
              "ticks": ""
             }
            },
            "type": "scattermapbox"
           }
          ],
          "scatterpolar": [
           {
            "marker": {
             "colorbar": {
              "outlinewidth": 0,
              "ticks": ""
             }
            },
            "type": "scatterpolar"
           }
          ],
          "scatterpolargl": [
           {
            "marker": {
             "colorbar": {
              "outlinewidth": 0,
              "ticks": ""
             }
            },
            "type": "scatterpolargl"
           }
          ],
          "scatterternary": [
           {
            "marker": {
             "colorbar": {
              "outlinewidth": 0,
              "ticks": ""
             }
            },
            "type": "scatterternary"
           }
          ],
          "surface": [
           {
            "colorbar": {
             "outlinewidth": 0,
             "ticks": ""
            },
            "colorscale": [
             [
              0,
              "#0d0887"
             ],
             [
              0.1111111111111111,
              "#46039f"
             ],
             [
              0.2222222222222222,
              "#7201a8"
             ],
             [
              0.3333333333333333,
              "#9c179e"
             ],
             [
              0.4444444444444444,
              "#bd3786"
             ],
             [
              0.5555555555555556,
              "#d8576b"
             ],
             [
              0.6666666666666666,
              "#ed7953"
             ],
             [
              0.7777777777777778,
              "#fb9f3a"
             ],
             [
              0.8888888888888888,
              "#fdca26"
             ],
             [
              1,
              "#f0f921"
             ]
            ],
            "type": "surface"
           }
          ],
          "table": [
           {
            "cells": {
             "fill": {
              "color": "#EBF0F8"
             },
             "line": {
              "color": "white"
             }
            },
            "header": {
             "fill": {
              "color": "#C8D4E3"
             },
             "line": {
              "color": "white"
             }
            },
            "type": "table"
           }
          ]
         },
         "layout": {
          "annotationdefaults": {
           "arrowcolor": "#2a3f5f",
           "arrowhead": 0,
           "arrowwidth": 1
          },
          "autotypenumbers": "strict",
          "coloraxis": {
           "colorbar": {
            "outlinewidth": 0,
            "ticks": ""
           }
          },
          "colorscale": {
           "diverging": [
            [
             0,
             "#8e0152"
            ],
            [
             0.1,
             "#c51b7d"
            ],
            [
             0.2,
             "#de77ae"
            ],
            [
             0.3,
             "#f1b6da"
            ],
            [
             0.4,
             "#fde0ef"
            ],
            [
             0.5,
             "#f7f7f7"
            ],
            [
             0.6,
             "#e6f5d0"
            ],
            [
             0.7,
             "#b8e186"
            ],
            [
             0.8,
             "#7fbc41"
            ],
            [
             0.9,
             "#4d9221"
            ],
            [
             1,
             "#276419"
            ]
           ],
           "sequential": [
            [
             0,
             "#0d0887"
            ],
            [
             0.1111111111111111,
             "#46039f"
            ],
            [
             0.2222222222222222,
             "#7201a8"
            ],
            [
             0.3333333333333333,
             "#9c179e"
            ],
            [
             0.4444444444444444,
             "#bd3786"
            ],
            [
             0.5555555555555556,
             "#d8576b"
            ],
            [
             0.6666666666666666,
             "#ed7953"
            ],
            [
             0.7777777777777778,
             "#fb9f3a"
            ],
            [
             0.8888888888888888,
             "#fdca26"
            ],
            [
             1,
             "#f0f921"
            ]
           ],
           "sequentialminus": [
            [
             0,
             "#0d0887"
            ],
            [
             0.1111111111111111,
             "#46039f"
            ],
            [
             0.2222222222222222,
             "#7201a8"
            ],
            [
             0.3333333333333333,
             "#9c179e"
            ],
            [
             0.4444444444444444,
             "#bd3786"
            ],
            [
             0.5555555555555556,
             "#d8576b"
            ],
            [
             0.6666666666666666,
             "#ed7953"
            ],
            [
             0.7777777777777778,
             "#fb9f3a"
            ],
            [
             0.8888888888888888,
             "#fdca26"
            ],
            [
             1,
             "#f0f921"
            ]
           ]
          },
          "colorway": [
           "#636efa",
           "#EF553B",
           "#00cc96",
           "#ab63fa",
           "#FFA15A",
           "#19d3f3",
           "#FF6692",
           "#B6E880",
           "#FF97FF",
           "#FECB52"
          ],
          "font": {
           "color": "#2a3f5f"
          },
          "geo": {
           "bgcolor": "white",
           "lakecolor": "white",
           "landcolor": "#E5ECF6",
           "showlakes": true,
           "showland": true,
           "subunitcolor": "white"
          },
          "hoverlabel": {
           "align": "left"
          },
          "hovermode": "closest",
          "mapbox": {
           "style": "light"
          },
          "paper_bgcolor": "white",
          "plot_bgcolor": "#E5ECF6",
          "polar": {
           "angularaxis": {
            "gridcolor": "white",
            "linecolor": "white",
            "ticks": ""
           },
           "bgcolor": "#E5ECF6",
           "radialaxis": {
            "gridcolor": "white",
            "linecolor": "white",
            "ticks": ""
           }
          },
          "scene": {
           "xaxis": {
            "backgroundcolor": "#E5ECF6",
            "gridcolor": "white",
            "gridwidth": 2,
            "linecolor": "white",
            "showbackground": true,
            "ticks": "",
            "zerolinecolor": "white"
           },
           "yaxis": {
            "backgroundcolor": "#E5ECF6",
            "gridcolor": "white",
            "gridwidth": 2,
            "linecolor": "white",
            "showbackground": true,
            "ticks": "",
            "zerolinecolor": "white"
           },
           "zaxis": {
            "backgroundcolor": "#E5ECF6",
            "gridcolor": "white",
            "gridwidth": 2,
            "linecolor": "white",
            "showbackground": true,
            "ticks": "",
            "zerolinecolor": "white"
           }
          },
          "shapedefaults": {
           "line": {
            "color": "#2a3f5f"
           }
          },
          "ternary": {
           "aaxis": {
            "gridcolor": "white",
            "linecolor": "white",
            "ticks": ""
           },
           "baxis": {
            "gridcolor": "white",
            "linecolor": "white",
            "ticks": ""
           },
           "bgcolor": "#E5ECF6",
           "caxis": {
            "gridcolor": "white",
            "linecolor": "white",
            "ticks": ""
           }
          },
          "title": {
           "x": 0.05
          },
          "xaxis": {
           "automargin": true,
           "gridcolor": "white",
           "linecolor": "white",
           "ticks": "",
           "title": {
            "standoff": 15
           },
           "zerolinecolor": "white",
           "zerolinewidth": 2
          },
          "yaxis": {
           "automargin": true,
           "gridcolor": "white",
           "linecolor": "white",
           "ticks": "",
           "title": {
            "standoff": 15
           },
           "zerolinecolor": "white",
           "zerolinewidth": 2
          }
         }
        },
        "title": {
         "text": "Population of Rome per century (interpolated) https://en.wikipedia.org/wiki/Rome",
         "x": 0.5,
         "xanchor": "center"
        },
        "width": 800,
        "xaxis": {
         "anchor": "y",
         "domain": [
          0,
          1
         ],
         "dtick": 1,
         "range": [
          -8,
          22
         ],
         "tickmode": "linear",
         "title": {
          "text": "Century"
         }
        },
        "yaxis": {
         "anchor": "x",
         "domain": [
          0,
          1
         ],
         "dtick": 500000,
         "range": [
          0,
          3718011.7
         ],
         "tick0": 0,
         "title": {
          "text": "Population"
         }
        }
       }
      }
     },
     "metadata": {},
     "output_type": "display_data"
    }
   ],
   "source": [
    "import pandas as pd\n",
    "import plotly.express as px\n",
    "from sqlalchemy import create_engine\n",
    "\n",
    "# Load data from the RomanPopulation table in SQL\n",
    "query = \"SELECT Century, Event, Population FROM RomanPopulation\"\n",
    "df = pd.read_sql(query, con=engine)\n",
    "\n",
    "# Convert centuries to integers\n",
    "df['Century'] = df['Century'].astype(int)\n",
    "\n",
    "# Filter out centuries beyond the 21st century\n",
    "df = df[df['Century'] <= 21]\n",
    "\n",
    "# Ensure all centuries from -8 to 21 are represented\n",
    "centuries = list(range(-8, 22))\n",
    "df_full = pd.DataFrame({'Century': centuries})\n",
    "\n",
    "# Merge known population data; many centuries may be missing measurements\n",
    "df_merged = pd.merge(df_full, df[['Century', 'Population']], on='Century', how='left')\n",
    "# Interpolate missing population values linearly\n",
    "df_merged['Population'] = df_merged['Population'].interpolate(method='linear')\n",
    "\n",
    "# Merge the events back. We'll do this separately to avoid losing event info.\n",
    "# Since events may only be defined for certain centuries, we just join them back on Century.\n",
    "df_events = df[['Century', 'Event']].dropna()  # Only rows with events\n",
    "df_plot = pd.merge(df_merged, df_events, on='Century', how='left')\n",
    "df_plot['Event'] = df_plot['Event'].fillna('')\n",
    "\n",
    "# Sort by century\n",
    "df_plot = df_plot.sort_values('Century')\n",
    "\n",
    "# Create a subset for events\n",
    "events_df = df_plot[df_plot['Event'] != ''].copy()\n",
    "events_df['Event_ID'] = range(1, len(events_df) + 1)\n",
    "\n",
    "# Merge back into main df to have the Event_ID available\n",
    "df_plot = df_plot.merge(events_df[['Century', 'Event', 'Event_ID']], on=['Century','Event'], how='left')\n",
    "\n",
    "# Create the line plot with interpolated values\n",
    "fig = px.line(\n",
    "    df_plot,\n",
    "    x='Century',\n",
    "    y='Population',\n",
    "    title='Population of Rome per century (interpolated) https://en.wikipedia.org/wiki/Rome',\n",
    "    labels={'Population': 'Population', 'Century': 'Century'},\n",
    "    markers=True,\n",
    "    line_shape='spline'\n",
    ")\n",
    "\n",
    "# Add annotations on the graph with just the ID for events\n",
    "for i, row in df_plot.iterrows():\n",
    "    if pd.notnull(row['Event_ID']):\n",
    "        fig.add_annotation(\n",
    "            x=row['Century'],\n",
    "            y=row['Population'],\n",
    "            text=str(int(row['Event_ID'])),\n",
    "            showarrow=True,\n",
    "            arrowhead=2,\n",
    "            ax=0,\n",
    "            ay=-50,\n",
    "            font=dict(size=14, color='black'),\n",
    "            arrowcolor='gray',\n",
    "            xanchor='center',\n",
    "            yanchor='top'\n",
    "        )\n",
    "\n",
    "# Prepare the legend as bullet points\n",
    "event_list_formatted = \"<br>\".join([f\"• {int(eID)}: {event}\" for eID, event in zip(events_df['Event_ID'], events_df['Event'])])\n",
    "\n",
    "# Add the annotation in the top-left corner with a white background box\n",
    "fig.add_annotation(\n",
    "    x=0.01,\n",
    "    y=0.99,\n",
    "    xref='paper',\n",
    "    yref='paper',\n",
    "    text=\"<b>Event Legend:</b><br>\" + event_list_formatted,\n",
    "    showarrow=False,\n",
    "    font=dict(size=10),\n",
    "    align='left',\n",
    "    bordercolor='black',\n",
    "    borderwidth=1,\n",
    "    bgcolor='white',\n",
    "    opacity=0.9\n",
    ")\n",
    "\n",
    "# Update layout for better visibility\n",
    "max_pop = df_plot['Population'].max()\n",
    "fig.update_layout(\n",
    "    xaxis=dict(\n",
    "        tickmode='linear',\n",
    "        dtick=1,\n",
    "        title='Century',\n",
    "        range=[-8, 22]\n",
    "    ),\n",
    "    yaxis=dict(\n",
    "        title='Population',\n",
    "        tick0=0,\n",
    "        dtick=500000,\n",
    "        range=[0, max_pop * 1.3]\n",
    "    ),\n",
    "    width=800,\n",
    "    height=600,\n",
    "    margin=dict(l=50, r=50, t=50, b=100),\n",
    "    title=dict(x=0.5, xanchor='center'),\n",
    "    font=dict(family=\"Arial\", size=10)\n",
    ")\n",
    "\n",
    "fig.show()\n"
   ]
  },
  {
   "cell_type": "code",
   "execution_count": 40,
   "metadata": {},
   "outputs": [
    {
     "data": {
      "application/vnd.plotly.v1+json": {
       "config": {
        "plotlyServerURL": "https://plot.ly"
       },
       "data": [
        {
         "alignmentgroup": "True",
         "hovertemplate": "Century=%{x}<br>Number of Churches Dedicated to Virgin Mary=%{text}<extra></extra>",
         "legendgroup": "",
         "marker": {
          "color": "#636efa",
          "pattern": {
           "shape": ""
          }
         },
         "name": "",
         "offsetgroup": "",
         "orientation": "v",
         "showlegend": false,
         "text": [
          1,
          2,
          1,
          2,
          1,
          1,
          5,
          4,
          1,
          9,
          26,
          37,
          23,
          17,
          143,
          14
         ],
         "textposition": "outside",
         "texttemplate": "%{text}",
         "type": "bar",
         "x": [
          1,
          4,
          5,
          6,
          8,
          9,
          11,
          12,
          13,
          15,
          16,
          17,
          18,
          19,
          20,
          21
         ],
         "xaxis": "x",
         "y": [
          1,
          2,
          1,
          2,
          1,
          1,
          5,
          4,
          1,
          9,
          26,
          37,
          23,
          17,
          143,
          14
         ],
         "yaxis": "y"
        }
       ],
       "layout": {
        "barmode": "relative",
        "height": 600,
        "legend": {
         "tracegroupgap": 0
        },
        "template": {
         "data": {
          "bar": [
           {
            "error_x": {
             "color": "#2a3f5f"
            },
            "error_y": {
             "color": "#2a3f5f"
            },
            "marker": {
             "line": {
              "color": "#E5ECF6",
              "width": 0.5
             },
             "pattern": {
              "fillmode": "overlay",
              "size": 10,
              "solidity": 0.2
             }
            },
            "type": "bar"
           }
          ],
          "barpolar": [
           {
            "marker": {
             "line": {
              "color": "#E5ECF6",
              "width": 0.5
             },
             "pattern": {
              "fillmode": "overlay",
              "size": 10,
              "solidity": 0.2
             }
            },
            "type": "barpolar"
           }
          ],
          "carpet": [
           {
            "aaxis": {
             "endlinecolor": "#2a3f5f",
             "gridcolor": "white",
             "linecolor": "white",
             "minorgridcolor": "white",
             "startlinecolor": "#2a3f5f"
            },
            "baxis": {
             "endlinecolor": "#2a3f5f",
             "gridcolor": "white",
             "linecolor": "white",
             "minorgridcolor": "white",
             "startlinecolor": "#2a3f5f"
            },
            "type": "carpet"
           }
          ],
          "choropleth": [
           {
            "colorbar": {
             "outlinewidth": 0,
             "ticks": ""
            },
            "type": "choropleth"
           }
          ],
          "contour": [
           {
            "colorbar": {
             "outlinewidth": 0,
             "ticks": ""
            },
            "colorscale": [
             [
              0,
              "#0d0887"
             ],
             [
              0.1111111111111111,
              "#46039f"
             ],
             [
              0.2222222222222222,
              "#7201a8"
             ],
             [
              0.3333333333333333,
              "#9c179e"
             ],
             [
              0.4444444444444444,
              "#bd3786"
             ],
             [
              0.5555555555555556,
              "#d8576b"
             ],
             [
              0.6666666666666666,
              "#ed7953"
             ],
             [
              0.7777777777777778,
              "#fb9f3a"
             ],
             [
              0.8888888888888888,
              "#fdca26"
             ],
             [
              1,
              "#f0f921"
             ]
            ],
            "type": "contour"
           }
          ],
          "contourcarpet": [
           {
            "colorbar": {
             "outlinewidth": 0,
             "ticks": ""
            },
            "type": "contourcarpet"
           }
          ],
          "heatmap": [
           {
            "colorbar": {
             "outlinewidth": 0,
             "ticks": ""
            },
            "colorscale": [
             [
              0,
              "#0d0887"
             ],
             [
              0.1111111111111111,
              "#46039f"
             ],
             [
              0.2222222222222222,
              "#7201a8"
             ],
             [
              0.3333333333333333,
              "#9c179e"
             ],
             [
              0.4444444444444444,
              "#bd3786"
             ],
             [
              0.5555555555555556,
              "#d8576b"
             ],
             [
              0.6666666666666666,
              "#ed7953"
             ],
             [
              0.7777777777777778,
              "#fb9f3a"
             ],
             [
              0.8888888888888888,
              "#fdca26"
             ],
             [
              1,
              "#f0f921"
             ]
            ],
            "type": "heatmap"
           }
          ],
          "heatmapgl": [
           {
            "colorbar": {
             "outlinewidth": 0,
             "ticks": ""
            },
            "colorscale": [
             [
              0,
              "#0d0887"
             ],
             [
              0.1111111111111111,
              "#46039f"
             ],
             [
              0.2222222222222222,
              "#7201a8"
             ],
             [
              0.3333333333333333,
              "#9c179e"
             ],
             [
              0.4444444444444444,
              "#bd3786"
             ],
             [
              0.5555555555555556,
              "#d8576b"
             ],
             [
              0.6666666666666666,
              "#ed7953"
             ],
             [
              0.7777777777777778,
              "#fb9f3a"
             ],
             [
              0.8888888888888888,
              "#fdca26"
             ],
             [
              1,
              "#f0f921"
             ]
            ],
            "type": "heatmapgl"
           }
          ],
          "histogram": [
           {
            "marker": {
             "pattern": {
              "fillmode": "overlay",
              "size": 10,
              "solidity": 0.2
             }
            },
            "type": "histogram"
           }
          ],
          "histogram2d": [
           {
            "colorbar": {
             "outlinewidth": 0,
             "ticks": ""
            },
            "colorscale": [
             [
              0,
              "#0d0887"
             ],
             [
              0.1111111111111111,
              "#46039f"
             ],
             [
              0.2222222222222222,
              "#7201a8"
             ],
             [
              0.3333333333333333,
              "#9c179e"
             ],
             [
              0.4444444444444444,
              "#bd3786"
             ],
             [
              0.5555555555555556,
              "#d8576b"
             ],
             [
              0.6666666666666666,
              "#ed7953"
             ],
             [
              0.7777777777777778,
              "#fb9f3a"
             ],
             [
              0.8888888888888888,
              "#fdca26"
             ],
             [
              1,
              "#f0f921"
             ]
            ],
            "type": "histogram2d"
           }
          ],
          "histogram2dcontour": [
           {
            "colorbar": {
             "outlinewidth": 0,
             "ticks": ""
            },
            "colorscale": [
             [
              0,
              "#0d0887"
             ],
             [
              0.1111111111111111,
              "#46039f"
             ],
             [
              0.2222222222222222,
              "#7201a8"
             ],
             [
              0.3333333333333333,
              "#9c179e"
             ],
             [
              0.4444444444444444,
              "#bd3786"
             ],
             [
              0.5555555555555556,
              "#d8576b"
             ],
             [
              0.6666666666666666,
              "#ed7953"
             ],
             [
              0.7777777777777778,
              "#fb9f3a"
             ],
             [
              0.8888888888888888,
              "#fdca26"
             ],
             [
              1,
              "#f0f921"
             ]
            ],
            "type": "histogram2dcontour"
           }
          ],
          "mesh3d": [
           {
            "colorbar": {
             "outlinewidth": 0,
             "ticks": ""
            },
            "type": "mesh3d"
           }
          ],
          "parcoords": [
           {
            "line": {
             "colorbar": {
              "outlinewidth": 0,
              "ticks": ""
             }
            },
            "type": "parcoords"
           }
          ],
          "pie": [
           {
            "automargin": true,
            "type": "pie"
           }
          ],
          "scatter": [
           {
            "fillpattern": {
             "fillmode": "overlay",
             "size": 10,
             "solidity": 0.2
            },
            "type": "scatter"
           }
          ],
          "scatter3d": [
           {
            "line": {
             "colorbar": {
              "outlinewidth": 0,
              "ticks": ""
             }
            },
            "marker": {
             "colorbar": {
              "outlinewidth": 0,
              "ticks": ""
             }
            },
            "type": "scatter3d"
           }
          ],
          "scattercarpet": [
           {
            "marker": {
             "colorbar": {
              "outlinewidth": 0,
              "ticks": ""
             }
            },
            "type": "scattercarpet"
           }
          ],
          "scattergeo": [
           {
            "marker": {
             "colorbar": {
              "outlinewidth": 0,
              "ticks": ""
             }
            },
            "type": "scattergeo"
           }
          ],
          "scattergl": [
           {
            "marker": {
             "colorbar": {
              "outlinewidth": 0,
              "ticks": ""
             }
            },
            "type": "scattergl"
           }
          ],
          "scattermapbox": [
           {
            "marker": {
             "colorbar": {
              "outlinewidth": 0,
              "ticks": ""
             }
            },
            "type": "scattermapbox"
           }
          ],
          "scatterpolar": [
           {
            "marker": {
             "colorbar": {
              "outlinewidth": 0,
              "ticks": ""
             }
            },
            "type": "scatterpolar"
           }
          ],
          "scatterpolargl": [
           {
            "marker": {
             "colorbar": {
              "outlinewidth": 0,
              "ticks": ""
             }
            },
            "type": "scatterpolargl"
           }
          ],
          "scatterternary": [
           {
            "marker": {
             "colorbar": {
              "outlinewidth": 0,
              "ticks": ""
             }
            },
            "type": "scatterternary"
           }
          ],
          "surface": [
           {
            "colorbar": {
             "outlinewidth": 0,
             "ticks": ""
            },
            "colorscale": [
             [
              0,
              "#0d0887"
             ],
             [
              0.1111111111111111,
              "#46039f"
             ],
             [
              0.2222222222222222,
              "#7201a8"
             ],
             [
              0.3333333333333333,
              "#9c179e"
             ],
             [
              0.4444444444444444,
              "#bd3786"
             ],
             [
              0.5555555555555556,
              "#d8576b"
             ],
             [
              0.6666666666666666,
              "#ed7953"
             ],
             [
              0.7777777777777778,
              "#fb9f3a"
             ],
             [
              0.8888888888888888,
              "#fdca26"
             ],
             [
              1,
              "#f0f921"
             ]
            ],
            "type": "surface"
           }
          ],
          "table": [
           {
            "cells": {
             "fill": {
              "color": "#EBF0F8"
             },
             "line": {
              "color": "white"
             }
            },
            "header": {
             "fill": {
              "color": "#C8D4E3"
             },
             "line": {
              "color": "white"
             }
            },
            "type": "table"
           }
          ]
         },
         "layout": {
          "annotationdefaults": {
           "arrowcolor": "#2a3f5f",
           "arrowhead": 0,
           "arrowwidth": 1
          },
          "autotypenumbers": "strict",
          "coloraxis": {
           "colorbar": {
            "outlinewidth": 0,
            "ticks": ""
           }
          },
          "colorscale": {
           "diverging": [
            [
             0,
             "#8e0152"
            ],
            [
             0.1,
             "#c51b7d"
            ],
            [
             0.2,
             "#de77ae"
            ],
            [
             0.3,
             "#f1b6da"
            ],
            [
             0.4,
             "#fde0ef"
            ],
            [
             0.5,
             "#f7f7f7"
            ],
            [
             0.6,
             "#e6f5d0"
            ],
            [
             0.7,
             "#b8e186"
            ],
            [
             0.8,
             "#7fbc41"
            ],
            [
             0.9,
             "#4d9221"
            ],
            [
             1,
             "#276419"
            ]
           ],
           "sequential": [
            [
             0,
             "#0d0887"
            ],
            [
             0.1111111111111111,
             "#46039f"
            ],
            [
             0.2222222222222222,
             "#7201a8"
            ],
            [
             0.3333333333333333,
             "#9c179e"
            ],
            [
             0.4444444444444444,
             "#bd3786"
            ],
            [
             0.5555555555555556,
             "#d8576b"
            ],
            [
             0.6666666666666666,
             "#ed7953"
            ],
            [
             0.7777777777777778,
             "#fb9f3a"
            ],
            [
             0.8888888888888888,
             "#fdca26"
            ],
            [
             1,
             "#f0f921"
            ]
           ],
           "sequentialminus": [
            [
             0,
             "#0d0887"
            ],
            [
             0.1111111111111111,
             "#46039f"
            ],
            [
             0.2222222222222222,
             "#7201a8"
            ],
            [
             0.3333333333333333,
             "#9c179e"
            ],
            [
             0.4444444444444444,
             "#bd3786"
            ],
            [
             0.5555555555555556,
             "#d8576b"
            ],
            [
             0.6666666666666666,
             "#ed7953"
            ],
            [
             0.7777777777777778,
             "#fb9f3a"
            ],
            [
             0.8888888888888888,
             "#fdca26"
            ],
            [
             1,
             "#f0f921"
            ]
           ]
          },
          "colorway": [
           "#636efa",
           "#EF553B",
           "#00cc96",
           "#ab63fa",
           "#FFA15A",
           "#19d3f3",
           "#FF6692",
           "#B6E880",
           "#FF97FF",
           "#FECB52"
          ],
          "font": {
           "color": "#2a3f5f"
          },
          "geo": {
           "bgcolor": "white",
           "lakecolor": "white",
           "landcolor": "#E5ECF6",
           "showlakes": true,
           "showland": true,
           "subunitcolor": "white"
          },
          "hoverlabel": {
           "align": "left"
          },
          "hovermode": "closest",
          "mapbox": {
           "style": "light"
          },
          "paper_bgcolor": "white",
          "plot_bgcolor": "#E5ECF6",
          "polar": {
           "angularaxis": {
            "gridcolor": "white",
            "linecolor": "white",
            "ticks": ""
           },
           "bgcolor": "#E5ECF6",
           "radialaxis": {
            "gridcolor": "white",
            "linecolor": "white",
            "ticks": ""
           }
          },
          "scene": {
           "xaxis": {
            "backgroundcolor": "#E5ECF6",
            "gridcolor": "white",
            "gridwidth": 2,
            "linecolor": "white",
            "showbackground": true,
            "ticks": "",
            "zerolinecolor": "white"
           },
           "yaxis": {
            "backgroundcolor": "#E5ECF6",
            "gridcolor": "white",
            "gridwidth": 2,
            "linecolor": "white",
            "showbackground": true,
            "ticks": "",
            "zerolinecolor": "white"
           },
           "zaxis": {
            "backgroundcolor": "#E5ECF6",
            "gridcolor": "white",
            "gridwidth": 2,
            "linecolor": "white",
            "showbackground": true,
            "ticks": "",
            "zerolinecolor": "white"
           }
          },
          "shapedefaults": {
           "line": {
            "color": "#2a3f5f"
           }
          },
          "ternary": {
           "aaxis": {
            "gridcolor": "white",
            "linecolor": "white",
            "ticks": ""
           },
           "baxis": {
            "gridcolor": "white",
            "linecolor": "white",
            "ticks": ""
           },
           "bgcolor": "#E5ECF6",
           "caxis": {
            "gridcolor": "white",
            "linecolor": "white",
            "ticks": ""
           }
          },
          "title": {
           "x": 0.05
          },
          "xaxis": {
           "automargin": true,
           "gridcolor": "white",
           "linecolor": "white",
           "ticks": "",
           "title": {
            "standoff": 15
           },
           "zerolinecolor": "white",
           "zerolinewidth": 2
          },
          "yaxis": {
           "automargin": true,
           "gridcolor": "white",
           "linecolor": "white",
           "ticks": "",
           "title": {
            "standoff": 15
           },
           "zerolinecolor": "white",
           "zerolinewidth": 2
          }
         }
        },
        "title": {
         "text": "Number of churches dedicated to Virgin Mary per century"
        },
        "uniformtext": {
         "minsize": 8,
         "mode": "hide"
        },
        "width": 800,
        "xaxis": {
         "anchor": "y",
         "domain": [
          0,
          1
         ],
         "dtick": 1,
         "tickmode": "linear",
         "title": {
          "text": "Century"
         }
        },
        "yaxis": {
         "anchor": "x",
         "domain": [
          0,
          1
         ],
         "title": {
          "text": "Number of Churches"
         }
        }
       }
      }
     },
     "metadata": {},
     "output_type": "display_data"
    }
   ],
   "source": [
    "from sqlalchemy import text\n",
    "import pandas as pd\n",
    "import plotly.express as px\n",
    "\n",
    "# Query the database for churches dedicated to Mary, excluding those after 21st century\n",
    "query = text(\"\"\"\n",
    "    SELECT m.built_century, COUNT(*) AS count\n",
    "    FROM RomanChurches_Main m\n",
    "    JOIN RomanChurches_Details d ON m.cid = d.cid\n",
    "    WHERE d.dedication LIKE '%Mary%'\n",
    "      AND m.built_century <= 21\n",
    "    GROUP BY m.built_century\n",
    "    ORDER BY m.built_century\n",
    "\"\"\")\n",
    "\n",
    "df = pd.read_sql_query(query, engine)\n",
    "\n",
    "# Create a bar plot for churches dedicated to Mary by century (up to 21st century)\n",
    "fig = px.bar(\n",
    "    df,\n",
    "    x='built_century',\n",
    "    y='count',\n",
    "    labels={'built_century': 'Century', 'count': 'Number of Churches Dedicated to Virgin Mary'},\n",
    "    title='Number of churches dedicated to Virgin Mary per century',\n",
    "    text='count'\n",
    ")\n",
    "\n",
    "fig.update_traces(texttemplate='%{text}', textposition='outside')\n",
    "fig.update_layout(\n",
    "    xaxis=dict(tickmode='linear', dtick=1),\n",
    "    yaxis_title='Number of Churches',\n",
    "    uniformtext_minsize=8,\n",
    "    uniformtext_mode='hide',\n",
    "    width=800,\n",
    "    height=600\n",
    ")\n",
    "\n",
    "fig.show()\n"
   ]
  },
  {
   "cell_type": "code",
   "execution_count": null,
   "metadata": {},
   "outputs": [],
   "source": []
  }
 ],
 "metadata": {
  "kernelspec": {
   "display_name": "sql_test",
   "language": "python",
   "name": "python3"
  },
  "language_info": {
   "codemirror_mode": {
    "name": "ipython",
    "version": 3
   },
   "file_extension": ".py",
   "mimetype": "text/x-python",
   "name": "python",
   "nbconvert_exporter": "python",
   "pygments_lexer": "ipython3",
   "version": "3.9.21"
  }
 },
 "nbformat": 4,
 "nbformat_minor": 2
}
